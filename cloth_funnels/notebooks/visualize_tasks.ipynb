{
 "cells": [
  {
   "cell_type": "code",
   "execution_count": 2,
   "metadata": {},
   "outputs": [],
   "source": [
    "import os\n",
    "os.chdir('/local/crv/acanberk/folding-unfolding/src')\n",
    "\n",
    "import torch\n",
    "from torchvision import transforms\n",
    "import h5py\n",
    "from tqdm import tqdm\n",
    "import torchvision\n",
    "import numpy as np\n",
    "from typing import Dict, Tuple, Optional, OrderedDict\n",
    "import os\n",
    "import pathlib\n",
    "import copy\n",
    "from tqdm import tqdm\n",
    "import sys\n",
    "from itertools import product\n",
    "import imutils\n",
    "import cv2\n",
    "import os\n",
    "import matplotlib.pyplot as plt\n",
    "import seaborn as sns\n",
    "import pandas as pd"
   ]
  },
  {
   "cell_type": "code",
   "execution_count": 9,
   "metadata": {},
   "outputs": [],
   "source": [
    "\n",
    "dataset_path = 'single-shirt-2107.hdf5'\n",
    "\n",
    "sizes = []\n",
    "flatten_areas = []\n",
    "\n",
    "mini = (np.inf, None)\n",
    "with h5py.File(dataset_path, \"r\") as dataset:\n",
    "    for i, k in zip(range(10000), dataset):\n",
    "        group = dataset[k]\n",
    "        if 'init_rgb' not in group:\n",
    "            continue\n",
    "        \n",
    "        s = np.array(group['init_rgb']).sum()\n",
    "        if s < mini[0]:\n",
    "            mini = (s, k)\n",
    "\n",
    "        sizes.append(s)\n",
    "        # if (np.array(group['init_rgb']).sum()) == 0:\n",
    "        #     print(\"BRUH\")\n",
    "        #     break\n",
    "        # sizes.append(group.attrs['size'])\n",
    "        # flatten_areas.append(group.attrs['flatten_area'])\n",
    "        # plt.imshow(group['init_rgb'])\n",
    "        # plt.title(f\"size:{group.attrs['cloth_height'] * group.attrs['cloth_width']:.2f}, flatten_area: {group.attrs['flatten_area']:.2f}\")\n",
    "        # plt.show()\n",
    "\n",
    "\n"
   ]
  },
  {
   "cell_type": "code",
   "execution_count": null,
   "metadata": {},
   "outputs": [],
   "source": []
  }
 ],
 "metadata": {
  "kernelspec": {
   "display_name": "Python 3.9.6 ('interactive-cloth-perception')",
   "language": "python",
   "name": "python3"
  },
  "language_info": {
   "codemirror_mode": {
    "name": "ipython",
    "version": 3
   },
   "file_extension": ".py",
   "mimetype": "text/x-python",
   "name": "python",
   "nbconvert_exporter": "python",
   "pygments_lexer": "ipython3",
   "version": "3.9.6"
  },
  "orig_nbformat": 4,
  "vscode": {
   "interpreter": {
    "hash": "7540f338a609f43a74945af0884bcada4afe109f2cad27b1cd30e29235e29274"
   }
  }
 },
 "nbformat": 4,
 "nbformat_minor": 2
}
