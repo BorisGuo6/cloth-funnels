{
 "cells": [
  {
   "cell_type": "code",
   "execution_count": 11,
   "metadata": {},
   "outputs": [
    {
     "data": {
      "text/plain": [
       "<matplotlib.image.AxesImage at 0x7fe8800bad60>"
      ]
     },
     "execution_count": 11,
     "metadata": {},
     "output_type": "execute_result"
    },
    {
     "data": {
      "image/png": "[encoded data removed]",
      "text/plain": [
       "<Figure size 432x288 with 1 Axes>"
      ]
     },
     "metadata": {
      "needs_background": "light"
     },
     "output_type": "display_data"
    }
   ],
   "source": [
    "import matplotlib.pyplot as plt\n",
    "import cv2 \n",
    "import numpy as np\n",
    "\n",
    "a = np.zeros((720, 720))\n",
    "\n",
    "#draw a circle in the middle bottom of a\n",
    "cv2.circle(a, (360, 720), 720//2, (255, 255, 255), -1)\n",
    "# cv2.circle(a, (360, 0), 720//2, (255, 255, 255), -1)\n",
    "\n",
    "\n",
    "plt.imshow(a)"
   ]
  },
  {
   "cell_type": "code",
   "execution_count": 4,
   "metadata": {},
   "outputs": [
    {
     "name": "stdout",
     "output_type": "stream",
     "text": [
      "tensor([[-0.3429, -0.1162, -0.2092, -1.2572, -0.6553,  0.3644, -0.4631, -1.2869,\n",
      "          0.1379, -1.4439],\n",
      "        [-0.7653,  0.5531,  0.5486,  0.0150, -0.4989, -2.1205,  0.5520, -0.0730,\n",
      "         -0.1185, -0.1021],\n",
      "        [-0.7610, -1.7826,  0.7531,  0.4298,  0.0112,  0.1843,  1.2927, -2.0054,\n",
      "          1.0011, -0.0431],\n",
      "        [-0.4069,  0.5985,  0.8232, -0.0802,  1.3667,  1.0484, -1.1216, -0.7630,\n",
      "         -2.0179, -0.7727],\n",
      "        [ 1.1425, -0.7734, -1.6787, -0.8244, -2.2923,  1.2507, -2.2341, -1.0370,\n",
      "         -0.3148, -0.5126],\n",
      "        [-0.5618,  1.3601,  1.2612, -0.5016,  0.2668, -0.6403,  1.2655,  0.5963,\n",
      "          1.7303,  0.0553],\n",
      "        [-1.1081,  0.6603, -0.0483,  1.5534,  0.5595, -0.1014,  1.1844,  1.8850,\n",
      "          1.0101,  0.1160],\n",
      "        [ 0.6656,  0.1269, -0.4853,  0.2652,  0.5558,  0.7404,  0.2482,  1.5924,\n",
      "          1.3825,  1.0363],\n",
      "        [-1.9333,  0.3416, -0.1829,  1.3226, -0.5308,  1.7816, -0.3826, -0.2264,\n",
      "         -0.5092, -0.4628],\n",
      "        [ 1.9307, -0.6330, -0.2841,  0.1048, -0.1773,  1.0441,  0.8356, -1.8130,\n",
      "         -0.7982, -0.7877]])\n",
      "tensor([[ 0.0660,  1.5950, -1.1349, -0.3238, -1.0443, -1.1492, -1.9672,  0.9368,\n",
      "         -1.0408, -0.2320],\n",
      "        [ 1.1402,  2.1246, -1.6959, -0.0185, -0.8382, -0.3480, -0.0091,  0.5761,\n",
      "          0.8425, -0.5957],\n",
      "        [-0.2620,  0.4174,  1.2985, -0.4054, -0.9280, -0.7268, -1.3578, -0.7974,\n",
      "          0.9984,  2.8249],\n",
      "        [ 0.4522, -2.3422,  0.5061, -2.0976,  1.7195, -1.4045,  0.5972,  0.0926,\n",
      "         -0.8620,  0.6077],\n",
      "        [-0.0544, -0.6991,  0.9166, -0.5949,  0.9906, -0.2888,  1.7014,  0.0716,\n",
      "         -0.9906,  0.6263],\n",
      "        [ 0.9536, -0.0727,  0.3868,  1.0679,  0.0166, -1.2715, -0.8694,  1.3589,\n",
      "         -0.4201,  0.2493],\n",
      "        [ 0.0883, -0.3795,  1.2152, -0.4819, -0.8418,  1.3249,  0.1710,  0.3688,\n",
      "          0.5578,  1.0546],\n",
      "        [-0.1000, -0.9540,  0.0710, -1.5490,  0.7418, -1.8268, -0.5806, -1.1936,\n",
      "         -0.4955, -1.3830],\n",
      "        [ 1.1689,  0.3871, -0.1785,  0.8654, -1.0745,  0.2130,  0.4007, -2.5358,\n",
      "         -1.2923,  0.0941],\n",
      "        [ 0.6758, -0.0641,  0.5266, -0.8057, -0.9924,  0.4745,  1.4177,  1.7425,\n",
      "          0.6145, -0.4761]])\n",
      "tensor([[-1.0569e+00,  3.4213e-01,  1.5833e-01, -1.0007e+00, -1.7207e-01,\n",
      "          2.3805e+00, -1.2049e+00, -3.1202e-01, -1.5783e+00,  7.4062e-01],\n",
      "        [ 1.5901e+00,  8.0287e-01, -2.2036e-01,  2.0336e-01,  3.3175e-01,\n",
      "         -4.1257e-01,  4.5283e-01,  2.8949e+00,  3.6639e-02, -9.8914e-01],\n",
      "        [ 1.3029e+00,  1.6793e+00,  1.9311e+00, -5.4967e-01, -2.3467e-01,\n",
      "         -7.2643e-02, -1.0748e-01, -1.8361e-01,  8.1326e-03, -5.0798e-01],\n",
      "        [ 8.4086e-02, -1.2179e+00, -2.8160e-01,  9.2206e-01,  3.8091e-01,\n",
      "          7.3707e-01,  1.5563e+00,  9.7725e-01,  1.3316e-02, -2.7542e+00],\n",
      "        [-1.1675e-01,  2.7489e+00, -1.6697e-01, -4.7486e-01, -1.3336e+00,\n",
      "          1.7067e-01, -2.2402e-01,  2.5028e-01, -1.9629e-01, -2.2649e+00],\n",
      "        [ 1.1044e+00,  5.7220e-01, -1.3757e+00, -8.0919e-01, -2.6440e+00,\n",
      "         -9.8155e-01,  8.2720e-01,  4.1183e-01,  9.4254e-01, -1.1027e+00],\n",
      "        [ 6.0148e-01,  7.6961e-01,  1.4947e+00, -6.1870e-01, -3.6334e-01,\n",
      "         -2.2732e-01, -6.5436e-01, -2.1949e-01,  1.0494e-02, -1.3208e+00],\n",
      "        [-1.9754e-03, -2.4377e-01,  1.3681e+00, -1.4926e+00, -4.0331e-01,\n",
      "          2.1639e-01, -6.5768e-01,  6.5051e-01, -4.9312e-01,  1.6431e-01],\n",
      "        [ 4.9948e-01,  1.9132e-01, -5.5330e-01, -5.3789e-01,  1.0599e-01,\n",
      "          1.1273e+00,  3.2065e-01, -1.1708e+00,  5.8401e-01,  1.1265e+00],\n",
      "        [-1.0759e+00,  2.8513e-01,  1.9495e+00, -7.3313e-01,  1.8606e+00,\n",
      "          1.1277e+00, -7.1446e-01,  1.3933e+00, -1.1154e+00, -4.1465e-01]])\n",
      "tensor([[-1.1955e+00,  2.2141e-01, -2.7708e-01,  5.3746e-01,  1.6094e+00,\n",
      "         -1.6199e+00, -1.0574e+00,  1.6071e-01,  4.6853e-01,  6.0067e-01],\n",
      "        [-9.4924e-01,  6.3329e-01, -8.8166e-01, -1.5008e+00, -6.0159e-02,\n",
      "         -2.2300e+00, -1.0533e-02, -1.0733e+00,  6.0357e-01,  1.9541e+00],\n",
      "        [-4.4563e-01,  1.1914e-01,  1.0649e+00,  1.5456e+00,  1.3789e-01,\n",
      "          8.9490e-01,  5.1570e-01, -1.1085e+00,  8.7968e-01, -1.4556e-01],\n",
      "        [ 1.4136e+00, -4.7285e-01, -2.9357e-01,  1.0214e+00, -5.7116e-01,\n",
      "          6.8406e-02,  1.1389e-01, -2.2654e-01, -4.0926e-01, -1.5051e-01],\n",
      "        [ 1.0033e+00,  4.7038e-01,  1.0037e+00,  1.6995e+00, -5.5211e-01,\n",
      "         -2.2166e-01,  4.9681e-01, -2.1491e-01, -2.0331e+00,  5.5575e-01],\n",
      "        [-5.4513e-01, -1.9233e+00,  1.0327e+00, -1.9834e-01,  4.4766e-01,\n",
      "         -9.6862e-01, -9.5921e-02, -6.0930e-01,  1.1158e+00, -3.0263e-02],\n",
      "        [ 2.2560e-01, -1.8154e+00,  1.3585e+00, -9.0976e-01,  5.6867e-01,\n",
      "         -8.3681e-01,  1.4789e+00, -1.5506e-01,  1.2210e+00, -2.7505e-01],\n",
      "        [-2.7685e-01, -7.3702e-02, -5.8259e-01, -8.1218e-01,  6.7845e-02,\n",
      "          2.9694e-01, -4.4778e-01, -7.9736e-01,  4.1498e-01,  1.6375e-01],\n",
      "        [ 4.2500e-02, -2.1067e+00, -5.1007e-01,  3.4156e-01,  6.6219e-01,\n",
      "         -4.5727e-01,  1.5806e+00, -1.9338e-01,  1.4775e-01, -2.5029e-01],\n",
      "        [-1.3355e+00, -2.3790e-01,  3.1699e-01,  6.0530e-01,  7.5927e-01,\n",
      "          4.5617e-01,  6.3366e-02,  9.7343e-04,  1.7014e+00,  6.2767e-01]])\n",
      "tensor([[ 0.5929, -0.3116, -1.0312,  0.3039, -0.2319,  0.7724, -1.6696,  1.3697,\n",
      "         -0.8521,  1.4893],\n",
      "        [ 0.1446,  0.7507, -0.1352,  0.5073, -0.1670,  0.3209, -0.2032, -1.2559,\n",
      "         -2.1418,  1.4400],\n",
      "        [ 0.3216, -0.6186,  1.1466,  0.2196,  0.7530,  0.2891, -0.1442,  0.0185,\n",
      "          0.0144,  0.5120],\n",
      "        [-0.1447, -1.1858, -0.1677, -1.1127, -2.0666,  1.8788, -1.3259, -1.2617,\n",
      "         -0.4683,  0.9621],\n",
      "        [-2.0446, -0.2788, -0.0903,  0.3275,  0.1048, -0.7083, -0.9411, -1.1372,\n",
      "         -0.5511, -1.0479],\n",
      "        [ 0.2444,  0.3206, -0.3957, -0.8155,  0.7638,  1.8230,  0.7373, -0.7826,\n",
      "          0.6148,  0.1134],\n",
      "        [ 0.2137, -0.6384, -0.5940, -0.1005,  0.2039,  0.6819,  0.6725,  0.9672,\n",
      "         -0.7845, -1.4589],\n",
      "        [-0.5791, -1.0369,  0.6554, -0.4753, -0.2670, -0.6634,  0.6490, -1.2253,\n",
      "         -0.3097,  0.4580],\n",
      "        [-1.5610, -1.3561,  0.8838,  1.4187, -0.4286, -0.2678, -0.5320,  0.9709,\n",
      "          0.1326, -0.2068],\n",
      "        [ 0.9132, -0.4769, -0.3866,  0.6555,  0.7672, -0.8071,  1.1639, -0.4823,\n",
      "         -0.1696, -0.3057]])\n",
      "tensor([[ 0.7128, -0.6609,  1.0385,  1.4500, -1.1238,  0.9617, -1.4585, -1.3226,\n",
      "          1.5045, -0.0441],\n",
      "        [-0.7985, -1.1478,  0.1437,  0.1888, -1.5938,  1.2427, -0.6123, -0.3360,\n",
      "         -2.1844, -1.0982],\n",
      "        [-0.9904, -1.7531,  0.9949,  0.2185, -0.2460,  2.0454,  2.2753,  0.4580,\n",
      "          0.3761,  0.3376],\n",
      "        [-0.5134, -0.0246,  0.9904, -0.6975,  1.0357, -0.7914, -0.4108,  1.3255,\n",
      "         -0.0381,  0.2361],\n",
      "        [-0.3631, -1.3365,  0.0752, -1.2240,  0.1422, -0.7158,  1.1013,  0.1271,\n",
      "          2.0191,  1.2659],\n",
      "        [ 0.4058, -0.7677,  1.2590, -0.5347,  0.9103,  0.7200,  1.1689, -2.0570,\n",
      "          1.7683,  0.3205],\n",
      "        [-0.8154,  0.8046, -0.1611, -0.8579,  0.0034,  1.7694, -0.8082,  0.0528,\n",
      "          0.5557, -0.5003],\n",
      "        [-1.4884, -0.9613,  0.6768, -0.5844,  0.3212,  0.5085,  0.4107, -0.6245,\n",
      "         -0.9343, -0.0662],\n",
      "        [ 1.0052,  1.0470, -0.3132,  0.5118,  0.1365,  0.1754,  0.6997,  1.3048,\n",
      "         -0.5301,  0.2765],\n",
      "        [-0.0705,  0.3197,  0.1664, -0.4333, -1.3113, -1.4072, -1.1952, -1.1238,\n",
      "          0.7436,  1.3549]])\n"
     ]
    }
   ],
   "source": [
    "import torch\n",
    "import numpy as np\n",
    "\n",
    "a = torch.randn((23, 10, 10))\n",
    "\n",
    "bs = 4\n",
    "for i in range(a.shape[0]//bs + 1):\n",
    "    print(a[i])\n"
   ]
  },
  {
   "cell_type": "code",
   "execution_count": null,
   "metadata": {},
   "outputs": [],
   "source": []
  }
 ],
 "metadata": {
  "interpreter": {
   "hash": "2e3c02d13737c2903d376535d80942c7cfe89ec8afdc40b24afc48f717e30331"
  },
  "kernelspec": {
   "display_name": "Python 3.9.6 64-bit ('interactive-cloth-perception')",
   "language": "python",
   "name": "python3"
  },
  "language_info": {
   "codemirror_mode": {
    "name": "ipython",
    "version": 3
   },
   "file_extension": ".py",
   "mimetype": "text/x-python",
   "name": "python",
   "nbconvert_exporter": "python",
   "pygments_lexer": "ipython3",
   "version": "3.9.6"
  },
  "orig_nbformat": 4
 },
 "nbformat": 4,
 "nbformat_minor": 2
}
