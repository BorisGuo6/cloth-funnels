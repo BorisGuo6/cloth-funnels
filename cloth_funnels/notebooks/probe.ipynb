{
 "cells": [
  {
   "cell_type": "code",
   "execution_count": 11,
   "metadata": {},
   "outputs": [
    {
     "name": "stderr",
     "output_type": "stream",
     "text": [
      "100%|██████████| 3/3 [00:00<00:00, 1590.36it/s]"
     ]
    },
    {
     "name": "stdout",
     "output_type": "stream",
     "text": [
      "<KeysViewHDF5 ['action_mask', 'action_visualization', 'actions', 'cloth_size', 'cloth_stiff', 'end_effector_positions', 'env_mesh_vertices', 'fling_cloth_mask', 'fling_mask', 'fling_raw_value_maps', 'fling_value_maps', 'fling_workspace_mask', 'init_verts', 'mask', 'max_indices', 'next_observations', 'observations', 'place_cloth_mask', 'place_mask', 'place_raw_value_maps', 'place_value_maps', 'place_workspace_mask', 'postaction_curr_mask', 'postaction_init_mask', 'postaction_verts', 'preaction_curr_mask', 'preaction_init_mask', 'preaction_verts', 'pretransform_observations', 'task_mesh_bend_edges', 'task_mesh_faces', 'task_mesh_nocs_verts', 'task_mesh_shear_edges', 'task_mesh_stretch_edges', 'task_mesh_verts', 'transformed_obs', 'value_map', 'value_maps', 'workspace_mask']>\n",
      "fling\n",
      "(17, 5720, 3)\n",
      "<KeysViewHDF5 ['action_mask', 'action_visualization', 'actions', 'cloth_size', 'cloth_stiff', 'end_effector_positions', 'env_mesh_vertices', 'fling_cloth_mask', 'fling_mask', 'fling_raw_value_maps', 'fling_value_maps', 'fling_workspace_mask', 'init_verts', 'mask', 'max_indices', 'next_observations', 'observations', 'place_cloth_mask', 'place_mask', 'place_raw_value_maps', 'place_value_maps', 'place_workspace_mask', 'postaction_curr_mask', 'postaction_init_mask', 'postaction_verts', 'preaction_curr_mask', 'preaction_init_mask', 'preaction_verts', 'pretransform_observations', 'task_mesh_bend_edges', 'task_mesh_faces', 'task_mesh_nocs_verts', 'task_mesh_shear_edges', 'task_mesh_stretch_edges', 'task_mesh_verts', 'transformed_obs', 'value_map', 'value_maps', 'workspace_mask']>\n",
      "fling\n",
      "(17, 5720, 3)\n",
      "<KeysViewHDF5 ['action_mask', 'action_visualization', 'actions', 'cloth_size', 'cloth_stiff', 'end_effector_positions', 'env_mesh_vertices', 'fling_cloth_mask', 'fling_mask', 'fling_raw_value_maps', 'fling_value_maps', 'fling_workspace_mask', 'init_verts', 'mask', 'max_indices', 'next_observations', 'observations', 'place_cloth_mask', 'place_mask', 'place_raw_value_maps', 'place_value_maps', 'place_workspace_mask', 'postaction_curr_mask', 'postaction_init_mask', 'postaction_verts', 'preaction_curr_mask', 'preaction_init_mask', 'preaction_verts', 'pretransform_observations', 'task_mesh_bend_edges', 'task_mesh_faces', 'task_mesh_nocs_verts', 'task_mesh_shear_edges', 'task_mesh_stretch_edges', 'task_mesh_verts', 'transformed_obs', 'value_map', 'value_maps', 'workspace_mask']>\n",
      "place\n",
      "(17, 5720, 3)\n"
     ]
    },
    {
     "name": "stderr",
     "output_type": "stream",
     "text": [
      "\n"
     ]
    }
   ],
   "source": [
    "import torch\n",
    "from torchvision import transforms\n",
    "import h5py\n",
    "from tqdm import tqdm\n",
    "import torchvision\n",
    "import numpy as np\n",
    "from typing import Dict, Tuple, Optional, OrderedDict\n",
    "import os\n",
    "import pathlib\n",
    "import copy\n",
    "from tqdm import tqdm\n",
    "import sys\n",
    "from itertools import product\n",
    "import imutils\n",
    "import cv2\n",
    "import os\n",
    "import matplotlib.pyplot as plt\n",
    "import seaborn as sns\n",
    "import pandas as pd\n",
    "from tqdm import tqdm \n",
    "\n",
    "in_path = '/local/crv/acanberk/folding-unfolding/src/visualizations/figures/pipeline_figure/test_recreate_2/replay_buffer.hdf5'\n",
    "# recreate_steps = [(7, 4)]\n",
    "#open in path\n",
    "\n",
    "instances = set()\n",
    "\n",
    "with h5py.File(in_path, 'r') as dataset:\n",
    "    #shuffle keys\n",
    "    keys = list(dataset.keys())\n",
    "    for i, key in enumerate(tqdm(keys)):\n",
    "\n",
    "        # key = f\"{key[0]:09d}_step{key[1]:02d}\"\n",
    "        group = dataset[key]\n",
    "\n",
    "        # if group.attrs['task_difficulty'] == 'hard':\n",
    "        #     continue\n",
    "        print(group.keys())\n",
    "\n",
    "        print(group.attrs['action_primitive'])\n",
    "        print(group['env_mesh_vertices'].shape)\n",
    "\n",
    "        # fig, axs = plt.subplots(1, 2)\n",
    "        # axs[0].imshow(group['pretransform_observations'][:3].transpose(1, 2, 0))\n",
    "        # axs[1].imshow(group['next_observations'][:3].transpose(1, 2, 0))\n",
    "        # plt.title(key)\n",
    "        # plt.show()\n",
    "\n",
    "        # transformed_obs = group['transformed_obs']\n",
    "        # num_scales = 6\n",
    "        # num_rotations = transformed_obs.shape[0] // num_scales\n",
    "        # size_factor = 1\n",
    "        # print(num_scales, num_rotations)\n",
    "        # fig, axs = plt.subplots(num_rotations, num_scales, figsize=(num_scales * size_factor, num_rotations * size_factor))\n",
    "        # for i, ax in enumerate(axs.flat):\n",
    "        #     ax.imshow(transformed_obs[i][:3].transpose(1, 2, 0))\n",
    "        #     ax.set_axis_off()\n",
    "        # fig.tight_layout()\n",
    "        # plt.show()\n",
    "    \n",
    "        # if i == 100:\n",
    "        #     break\n",
    "        \n",
    "      "
   ]
  },
  {
   "cell_type": "code",
   "execution_count": null,
   "metadata": {},
   "outputs": [],
   "source": []
  }
 ],
 "metadata": {
  "kernelspec": {
   "display_name": "Python 3.9.6 64-bit ('interactive-cloth-perception')",
   "language": "python",
   "name": "python3"
  },
  "language_info": {
   "codemirror_mode": {
    "name": "ipython",
    "version": 3
   },
   "file_extension": ".py",
   "mimetype": "text/x-python",
   "name": "python",
   "nbconvert_exporter": "python",
   "pygments_lexer": "ipython3",
   "version": "3.9.6"
  },
  "orig_nbformat": 4,
  "vscode": {
   "interpreter": {
    "hash": "2e3c02d13737c2903d376535d80942c7cfe89ec8afdc40b24afc48f717e30331"
   }
  }
 },
 "nbformat": 4,
 "nbformat_minor": 2
}
