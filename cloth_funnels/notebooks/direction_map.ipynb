{
 "cells": [
  {
   "cell_type": "code",
   "execution_count": 3,
   "metadata": {},
   "outputs": [],
   "source": [
    "import numpy as np\n",
    "import imutils\n",
    "import matplotlib.pyplot as plt \n",
    "import cv2\n",
    "import torch"
   ]
  },
  {
   "cell_type": "code",
   "execution_count": 16,
   "metadata": {},
   "outputs": [
    {
     "name": "stdout",
     "output_type": "stream",
     "text": [
      "(128, 128, 2)\n",
      "-5.0 5.0\n"
     ]
    },
    {
     "data": {
      "image/png": "[encoded data removed]",
      "text/plain": [
       "<Figure size 432x288 with 1 Axes>"
      ]
     },
     "metadata": {
      "needs_background": "light"
     },
     "output_type": "display_data"
    }
   ],
   "source": [
    "\n",
    "dim=128\n",
    "# new_dim=128\n",
    "scale_factors = [1.0]\n",
    "\n",
    "def generate_coordinate_map(dim, rotation, scale, normalize=False):\n",
    "\n",
    "    MAX_SCALE=5\n",
    "    if normalize:\n",
    "        scale = 1\n",
    "\n",
    "    coordinate_dim = int(dim * (MAX_SCALE/scale))\n",
    "    x, y = np.meshgrid(MAX_SCALE * np.linspace(-1 , 1, coordinate_dim), MAX_SCALE * np.linspace(-1 , 1, coordinate_dim), indexing=\"ij\")\n",
    "    x, y = x.reshape(coordinate_dim, coordinate_dim, 1), y.reshape(coordinate_dim, coordinate_dim, 1)\n",
    "    xy = np.concatenate((x, y), axis=2)\n",
    "    xy = imutils.rotate(xy, rotation)\n",
    "    center = coordinate_dim/2\n",
    "\n",
    "    new_dim = int(center + center * scale/MAX_SCALE) - int(center - center * scale/MAX_SCALE)\n",
    "    offset = 0\n",
    "    if int(new_dim) != dim:\n",
    "        offset = int(dim - new_dim)\n",
    "\n",
    "    xy = xy[int(center - center * scale/MAX_SCALE) : int(center + center * scale/MAX_SCALE) + offset, \\\n",
    "         int(center - center * scale/MAX_SCALE):int(center + center * scale/MAX_SCALE) + offset, :]\n",
    "\n",
    "    return xy\n",
    "\n",
    "#resize xy to newdim\n",
    "rotation = 90\n",
    "for scale in scale_factors:\n",
    "    xy = generate_coordinate_map(dim, rotation, scale, normalize=False)\n",
    "\n",
    "    print(xy.shape)\n",
    "    print(np.min(xy[:, :, 0]) ,np.max(xy[:, :, 0]))\n",
    "    plt.imshow(xy[:, :, 0])\n",
    "    # plt.imshow(xy[:, :, 1])\n",
    "    plt.show()\n"
   ]
  },
  {
   "cell_type": "code",
   "execution_count": 3,
   "metadata": {},
   "outputs": [
    {
     "data": {
      "text/plain": [
       "0.7071067811865476"
      ]
     },
     "execution_count": 3,
     "metadata": {},
     "output_type": "execute_result"
    }
   ],
   "source": [
    "np.sqrt(2)/2"
   ]
  },
  {
   "cell_type": "code",
   "execution_count": 3,
   "metadata": {},
   "outputs": [
    {
     "name": "stdout",
     "output_type": "stream",
     "text": [
      "4.917543810173919\n",
      "4.917543810173919\n"
     ]
    }
   ],
   "source": [
    "stacked_vmaps = np.random.randn(*(2, 85, 128, 128))\n",
    "max_indices = np.stack(np.unravel_index(np.argsort(np.ravel(stacked_vmaps))[::-1], stacked_vmaps.shape)).T\n",
    "for index in max_indices:\n",
    "    if index[2] >= 128:\n",
    "        print(\"index[2] >= 128\")\n",
    "    if index[3] >= 128:\n",
    "        print(\"index[3] >= 128\")"
   ]
  },
  {
   "cell_type": "code",
   "execution_count": 14,
   "metadata": {},
   "outputs": [
    {
     "name": "stdout",
     "output_type": "stream",
     "text": [
      "tensor([[-0.0775, -2.5400, -1.8364,  2.2426,  1.8918,  2.2122,  0.9824, -0.6323,\n",
      "         -1.3247,  1.1198, -1.0925,  0.0098,  0.9922, -0.1039,  0.2943, -1.1437,\n",
      "         -0.5673,  0.3605,  0.8542, -1.6861, -0.1360,  2.6022,  0.0558, -1.6937,\n",
      "          1.4636, -0.5042, -1.2971,  1.7204,  0.4276,  1.3524, -0.7655, -1.1150,\n",
      "          0.1522, -1.2680,  1.1914,  1.0481,  0.1160, -0.5537, -2.9938, -2.3115,\n",
      "          1.6153, -1.6864,  1.3691, -0.1584, -0.3974, -1.7196, -0.2959,  0.7805,\n",
      "         -0.0934,  0.4119, -0.4002,  1.5685, -0.3497, -0.4576,  1.5394, -0.2631,\n",
      "         -0.8592, -0.8034, -0.0789, -1.8742, -0.1313,  0.3148, -0.2495, -1.2354,\n",
      "          1.1251, -0.9087, -0.4294,  0.9375, -0.4508, -0.5510,  0.0676, -0.6444,\n",
      "          2.2489, -0.3261, -2.3079, -1.7496, -0.4070,  1.2791, -2.0077,  0.4491,\n",
      "          0.1019, -0.2429, -0.7699,  1.2701, -1.4982, -0.3860, -0.1171,  0.8454,\n",
      "          0.7757, -1.7971,  0.4363,  0.1005,  0.4259, -0.6884, -0.4389,  0.6690,\n",
      "          1.9637, -0.4531, -1.9702,  1.7103, -1.0822, -1.3409, -0.4486, -1.7273,\n",
      "         -0.5518,  0.5385, -0.4517, -0.3023, -0.1808,  0.3248,  0.5784, -0.8896,\n",
      "          1.9589, -1.3823,  1.2569,  0.8662,  0.0318,  0.4744, -0.0419,  0.2013,\n",
      "          0.4122,  0.3940, -0.1182,  0.7773,  1.4374,  0.4734,  0.9279,  2.4981]]) tensor([[ -0.3873, -12.7002,  -9.1818,  11.2131,   9.4592,  11.0611,   4.9120,\n",
      "          -3.1615,  -6.6237,   5.5988,  -5.4626,   0.0489,   4.9612,  -0.5193,\n",
      "           1.4713,  -5.7183,  -2.8364,   1.8027,   4.2709,  -8.4303,  -0.6802,\n",
      "          13.0109,   0.2789,  -8.4687,   7.3179,  -2.5210,  -6.4853,   8.6020,\n",
      "           2.1379,   6.7620,  -3.8277,  -5.5751,   0.7610,  -6.3401,   5.9569,\n",
      "           5.2407,   0.5801,  -2.7684, -14.9688, -11.5575,   8.0763,  -8.4322,\n",
      "           6.8453,  -0.7922,  -1.9870,  -8.5981,  -1.4793,   3.9023,  -0.4669,\n",
      "           2.0595,  -2.0010,   7.8427,  -1.7484,  -2.2881,   7.6972,  -1.3154,\n",
      "          -4.2958,  -4.0168,  -0.3943,  -9.3711,  -0.6564,   1.5740,  -1.2476,\n",
      "          -6.1770,   5.6255,  -4.5434,  -2.1468,   4.6876,  -2.2542,  -2.7550,\n",
      "           0.3379,  -3.2218,  11.2443,  -1.6306, -11.5395,  -8.7482,  -2.0351,\n",
      "           6.3954, -10.0384,   2.2457,   0.5093,  -1.2143,  -3.8493,   6.3505,\n",
      "          -7.4908,  -1.9301,  -0.5853,   4.2272,   3.8785,  -8.9853,   2.1813,\n",
      "           0.5025,   2.1293,  -3.4422,  -2.1945,   3.3452,   9.8185,  -2.2657,\n",
      "          -9.8508,   8.5514,  -5.4112,  -6.7045,  -2.2428,  -8.6367,  -2.7592,\n",
      "           2.6924,  -2.2584,  -1.5117,  -0.9038,   1.6240,   2.8922,  -4.4482,\n",
      "           9.7945,  -6.9116,   6.2846,   4.3312,   0.1590,   2.3719,  -0.2094,\n",
      "           1.0066,   2.0611,   1.9699,  -0.5911,   3.8864,   7.1870,   2.3672,\n",
      "           4.6394,  12.4904]])\n"
     ]
    }
   ],
   "source": []
  },
  {
   "cell_type": "code",
   "execution_count": null,
   "metadata": {},
   "outputs": [],
   "source": []
  }
 ],
 "metadata": {
  "kernelspec": {
   "display_name": "Python 3.9.6 ('interactive-cloth-perception')",
   "language": "python",
   "name": "python3"
  },
  "language_info": {
   "codemirror_mode": {
    "name": "ipython",
    "version": 3
   },
   "file_extension": ".py",
   "mimetype": "text/x-python",
   "name": "python",
   "nbconvert_exporter": "python",
   "pygments_lexer": "ipython3",
   "version": "3.9.6"
  },
  "orig_nbformat": 4,
  "vscode": {
   "interpreter": {
    "hash": "7540f338a609f43a74945af0884bcada4afe109f2cad27b1cd30e29235e29274"
   }
  }
 },
 "nbformat": 4,
 "nbformat_minor": 2
}
