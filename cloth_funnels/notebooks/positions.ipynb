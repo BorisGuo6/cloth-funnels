{
 "cells": [
  {
   "cell_type": "code",
   "execution_count": 9,
   "metadata": {},
   "outputs": [],
   "source": [
    "import os\n",
    "os.chdir(\"/local/crv/acanberk/folding-unfolding/src\")\n",
    "# os.system(\". ./prepare.sh\")\n",
    "# os.system(\"./prepare.sh\")\n",
    "# os.system(\"python\")\n",
    "import numpy as np\n",
    "import torch\n",
    "\n",
    "def compute_intrinsics(fov, image_size):\n",
    "    image_size = float(image_size)\n",
    "    focal_length = (image_size / 2)\\\n",
    "        / np.tan((np.pi * fov / 180) / 2)\n",
    "    return np.array([[focal_length, 0, image_size / 2],\n",
    "                     [0, focal_length, image_size / 2],\n",
    "                     [0, 0, 1]])\n",
    "\n",
    "def compute_pose(pos, lookat, up=[0, 0, 1]):\n",
    "    norm = np.linalg.norm\n",
    "    if type(lookat) != np.array:\n",
    "        lookat = np.array(lookat)\n",
    "    if type(pos) != np.array:\n",
    "        pos = np.array(pos)\n",
    "    if type(up) != np.array:\n",
    "        up = np.array(up)\n",
    "    f = (lookat - pos)\n",
    "    f = f/norm(f)\n",
    "    u = up / norm(up)\n",
    "    s = np.cross(f, u)\n",
    "    s = s/norm(s)\n",
    "    u = np.cross(s, f)\n",
    "    view_matrix = [\n",
    "        s[0], u[0], -f[0], 0,\n",
    "        s[1], u[1], -f[1], 0,\n",
    "        s[2], u[2], -f[2], 0,\n",
    "        -np.dot(s, pos), -np.dot(u, pos), np.dot(f, pos), 1\n",
    "    ]\n",
    "    view_matrix = np.array(view_matrix).reshape(4, 4).T\n",
    "    pose_matrix = np.linalg.inv(view_matrix)\n",
    "    pose_matrix[:, 1:3] = -pose_matrix[:, 1:3]\n",
    "    return pose_matrix\n",
    "\n",
    "\n",
    "\n",
    "def pixel_to_3d(depth_im, x, y,\n",
    "                pose_matrix,\n",
    "                fov=39.5978,\n",
    "                depth_scale=1):\n",
    "    intrinsics_matrix = compute_intrinsics(fov, depth_im.shape[0])\n",
    "    click_z = depth_im[y, x]\n",
    "    click_z *= depth_scale\n",
    "    click_x = (x-intrinsics_matrix[0, 2]) * \\\n",
    "        click_z/intrinsics_matrix[0, 0]\n",
    "    click_y = (y-intrinsics_matrix[1, 2]) * \\\n",
    "        click_z/intrinsics_matrix[1, 1]\n",
    "    if click_z == 0:\n",
    "        raise Exception('Invalid pick point')\n",
    "    # 3d point in camera coordinates\n",
    "    point_3d = np.asarray([click_x, click_y, click_z])\n",
    "    point_3d = np.append(point_3d, 1.0).reshape(4, 1)\n",
    "    # Convert camera coordinates to world coordinates\n",
    "    target_position = np.dot(pose_matrix, point_3d)\n",
    "    target_position = target_position[0:3, 0]\n",
    "    target_position[0] = - target_position[0]\n",
    "    return target_position"
   ]
  },
  {
   "cell_type": "code",
   "execution_count": 15,
   "metadata": {},
   "outputs": [
    {
     "data": {
      "text/plain": [
       "array([-0.72000093,  0.        ,  0.72000093])"
      ]
     },
     "execution_count": 15,
     "metadata": {},
     "output_type": "execute_result"
    }
   ],
   "source": [
    "depth_im = np.ones((729, 720)) * 2\n",
    "pose_matrix = compute_pose(\n",
    "                pos=[0, 2, 0],\n",
    "                lookat=[0, 0, 0],\n",
    "                up=[0, 0, 1])\n",
    "pixel_to_3d(depth_im, 0, 0, pose_matrix)"
   ]
  },
  {
   "cell_type": "code",
   "execution_count": null,
   "metadata": {},
   "outputs": [],
   "source": [
    "#720 pixels = 0.720m\n",
    "#1px = 1mm"
   ]
  }
 ],
 "metadata": {
  "interpreter": {
   "hash": "2e3c02d13737c2903d376535d80942c7cfe89ec8afdc40b24afc48f717e30331"
  },
  "kernelspec": {
   "display_name": "Python 3.9.6 64-bit ('interactive-cloth-perception')",
   "language": "python",
   "name": "python3"
  },
  "language_info": {
   "codemirror_mode": {
    "name": "ipython",
    "version": 3
   },
   "file_extension": ".py",
   "mimetype": "text/x-python",
   "name": "python",
   "nbconvert_exporter": "python",
   "pygments_lexer": "ipython3",
   "version": "3.9.6"
  },
  "orig_nbformat": 4
 },
 "nbformat": 4,
 "nbformat_minor": 2
}
